{
 "cells": [
  {
   "cell_type": "code",
   "execution_count": 2,
   "metadata": {},
   "outputs": [],
   "source": [
    "#libraries importing\n",
    "import pandas as pd"
   ]
  },
  {
   "cell_type": "code",
   "execution_count": 62,
   "metadata": {},
   "outputs": [
    {
     "data": {
      "text/html": [
       "<div>\n",
       "<style scoped>\n",
       "    .dataframe tbody tr th:only-of-type {\n",
       "        vertical-align: middle;\n",
       "    }\n",
       "\n",
       "    .dataframe tbody tr th {\n",
       "        vertical-align: top;\n",
       "    }\n",
       "\n",
       "    .dataframe thead th {\n",
       "        text-align: right;\n",
       "    }\n",
       "</style>\n",
       "<table border=\"1\" class=\"dataframe\">\n",
       "  <thead>\n",
       "    <tr style=\"text-align: right;\">\n",
       "      <th></th>\n",
       "      <th>rank</th>\n",
       "      <th>primary_isbn10</th>\n",
       "      <th>primary_isbn13</th>\n",
       "      <th>publisher</th>\n",
       "      <th>title</th>\n",
       "      <th>author</th>\n",
       "      <th>category</th>\n",
       "      <th>pub_date</th>\n",
       "    </tr>\n",
       "  </thead>\n",
       "  <tbody>\n",
       "    <tr>\n",
       "      <th>0</th>\n",
       "      <td>1</td>\n",
       "      <td>0593356152</td>\n",
       "      <td>9780593356159</td>\n",
       "      <td>Ballantine</td>\n",
       "      <td>THE MAID</td>\n",
       "      <td>Nita Prose</td>\n",
       "      <td>Hardcover Fiction</td>\n",
       "      <td>current</td>\n",
       "    </tr>\n",
       "    <tr>\n",
       "      <th>1</th>\n",
       "      <td>2</td>\n",
       "      <td>0525559477</td>\n",
       "      <td>9780525559474</td>\n",
       "      <td>Viking</td>\n",
       "      <td>THE MIDNIGHT LIBRARY</td>\n",
       "      <td>Matt Haig</td>\n",
       "      <td>Hardcover Fiction</td>\n",
       "      <td>current</td>\n",
       "    </tr>\n",
       "    <tr>\n",
       "      <th>2</th>\n",
       "      <td>3</td>\n",
       "      <td>0735222355</td>\n",
       "      <td>9780735222359</td>\n",
       "      <td>Viking</td>\n",
       "      <td>THE LINCOLN HIGHWAY</td>\n",
       "      <td>Amor Towles</td>\n",
       "      <td>Hardcover Fiction</td>\n",
       "      <td>current</td>\n",
       "    </tr>\n",
       "    <tr>\n",
       "      <th>3</th>\n",
       "      <td>4</td>\n",
       "      <td>0316499773</td>\n",
       "      <td>9780316499774</td>\n",
       "      <td>Little, Brown</td>\n",
       "      <td>THE HORSEWOMAN</td>\n",
       "      <td>James Patterson and Mike Lupica</td>\n",
       "      <td>Hardcover Fiction</td>\n",
       "      <td>current</td>\n",
       "    </tr>\n",
       "    <tr>\n",
       "      <th>4</th>\n",
       "      <td>5</td>\n",
       "      <td>1501171348</td>\n",
       "      <td>9781501171345</td>\n",
       "      <td>Simon &amp; Schuster</td>\n",
       "      <td>THE LAST THING HE TOLD ME</td>\n",
       "      <td>Laura Dave</td>\n",
       "      <td>Hardcover Fiction</td>\n",
       "      <td>current</td>\n",
       "    </tr>\n",
       "  </tbody>\n",
       "</table>\n",
       "</div>"
      ],
      "text/plain": [
       "   rank primary_isbn10 primary_isbn13         publisher  \\\n",
       "0     1     0593356152  9780593356159        Ballantine   \n",
       "1     2     0525559477  9780525559474            Viking   \n",
       "2     3     0735222355  9780735222359            Viking   \n",
       "3     4     0316499773  9780316499774     Little, Brown   \n",
       "4     5     1501171348  9781501171345  Simon & Schuster   \n",
       "\n",
       "                       title                           author  \\\n",
       "0                   THE MAID                       Nita Prose   \n",
       "1       THE MIDNIGHT LIBRARY                        Matt Haig   \n",
       "2        THE LINCOLN HIGHWAY                      Amor Towles   \n",
       "3             THE HORSEWOMAN  James Patterson and Mike Lupica   \n",
       "4  THE LAST THING HE TOLD ME                       Laura Dave   \n",
       "\n",
       "            category pub_date  \n",
       "0  Hardcover Fiction  current  \n",
       "1  Hardcover Fiction  current  \n",
       "2  Hardcover Fiction  current  \n",
       "3  Hardcover Fiction  current  \n",
       "4  Hardcover Fiction  current  "
      ]
     },
     "execution_count": 62,
     "metadata": {},
     "output_type": "execute_result"
    }
   ],
   "source": [
    "#reading the NYT_API data\n",
    "NYT_df=pd.read_csv(\"output/best_book_list_1.csv\")\n",
    "NYT_df.head()"
   ]
  },
  {
   "cell_type": "code",
   "execution_count": 63,
   "metadata": {},
   "outputs": [
    {
     "name": "stdout",
     "output_type": "stream",
     "text": [
      "<class 'pandas.core.frame.DataFrame'>\n",
      "RangeIndex: 3640 entries, 0 to 3639\n",
      "Data columns (total 8 columns):\n",
      " #   Column          Non-Null Count  Dtype \n",
      "---  ------          --------------  ----- \n",
      " 0   rank            3640 non-null   int64 \n",
      " 1   primary_isbn10  3067 non-null   object\n",
      " 2   primary_isbn13  3640 non-null   object\n",
      " 3   publisher       3640 non-null   object\n",
      " 4   title           3640 non-null   object\n",
      " 5   author          3640 non-null   object\n",
      " 6   category        3640 non-null   object\n",
      " 7   pub_date        3640 non-null   object\n",
      "dtypes: int64(1), object(7)\n",
      "memory usage: 227.6+ KB\n"
     ]
    }
   ],
   "source": [
    "#checking columns and null values\n",
    "NYT_df.info()"
   ]
  },
  {
   "cell_type": "code",
   "execution_count": 64,
   "metadata": {},
   "outputs": [],
   "source": [
    "#dropping column with null values\n",
    "NYT_df.drop('primary_isbn10',axis=1,inplace=True)"
   ]
  },
  {
   "cell_type": "code",
   "execution_count": 65,
   "metadata": {},
   "outputs": [
    {
     "data": {
      "text/plain": [
       "0"
      ]
     },
     "execution_count": 65,
     "metadata": {},
     "output_type": "execute_result"
    }
   ],
   "source": [
    "#checking duplicated rows\n",
    "NYT_df.duplicated().sum()"
   ]
  },
  {
   "cell_type": "code",
   "execution_count": 66,
   "metadata": {},
   "outputs": [
    {
     "data": {
      "text/plain": [
       "Combined Print Nonfiction    560\n",
       "Combined Print Fiction       560\n",
       "Hardcover Nonfiction         420\n",
       "Audio Nonfiction             420\n",
       "E-Book Fiction               420\n",
       "Audio Fiction                420\n",
       "Hardcover Fiction            420\n",
       "E-Book Nonfiction            420\n",
       "Name: category, dtype: int64"
      ]
     },
     "execution_count": 66,
     "metadata": {},
     "output_type": "execute_result"
    }
   ],
   "source": [
    "NYT_df[\"category\"].value_counts()"
   ]
  },
  {
   "cell_type": "code",
   "execution_count": 67,
   "metadata": {},
   "outputs": [
    {
     "name": "stdout",
     "output_type": "stream",
     "text": [
      "The unique number of title column: 1070\n"
     ]
    },
    {
     "data": {
      "text/html": [
       "<div>\n",
       "<style scoped>\n",
       "    .dataframe tbody tr th:only-of-type {\n",
       "        vertical-align: middle;\n",
       "    }\n",
       "\n",
       "    .dataframe tbody tr th {\n",
       "        vertical-align: top;\n",
       "    }\n",
       "\n",
       "    .dataframe thead th {\n",
       "        text-align: right;\n",
       "    }\n",
       "</style>\n",
       "<table border=\"1\" class=\"dataframe\">\n",
       "  <thead>\n",
       "    <tr style=\"text-align: right;\">\n",
       "      <th></th>\n",
       "      <th>title</th>\n",
       "    </tr>\n",
       "  </thead>\n",
       "  <tbody>\n",
       "    <tr>\n",
       "      <th>THE MIDNIGHT LIBRARY</th>\n",
       "      <td>40</td>\n",
       "    </tr>\n",
       "    <tr>\n",
       "      <th>UNTAMED</th>\n",
       "      <td>38</td>\n",
       "    </tr>\n",
       "    <tr>\n",
       "      <th>THE LAST THING HE TOLD ME</th>\n",
       "      <td>34</td>\n",
       "    </tr>\n",
       "    <tr>\n",
       "      <th>GREENLIGHTS</th>\n",
       "      <td>34</td>\n",
       "    </tr>\n",
       "    <tr>\n",
       "      <th>BORN A CRIME</th>\n",
       "      <td>31</td>\n",
       "    </tr>\n",
       "    <tr>\n",
       "      <th>...</th>\n",
       "      <td>...</td>\n",
       "    </tr>\n",
       "    <tr>\n",
       "      <th>THE LINCOLN CONSPIRACY</th>\n",
       "      <td>1</td>\n",
       "    </tr>\n",
       "    <tr>\n",
       "      <th>KILLING CRAZY HORSE</th>\n",
       "      <td>1</td>\n",
       "    </tr>\n",
       "    <tr>\n",
       "      <th>THE PIGEON TUNNEL</th>\n",
       "      <td>1</td>\n",
       "    </tr>\n",
       "    <tr>\n",
       "      <th>THE PERFECT HORSE</th>\n",
       "      <td>1</td>\n",
       "    </tr>\n",
       "    <tr>\n",
       "      <th>THE SUGAR QUEEN</th>\n",
       "      <td>1</td>\n",
       "    </tr>\n",
       "  </tbody>\n",
       "</table>\n",
       "<p>1070 rows × 1 columns</p>\n",
       "</div>"
      ],
      "text/plain": [
       "                           title\n",
       "THE MIDNIGHT LIBRARY          40\n",
       "UNTAMED                       38\n",
       "THE LAST THING HE TOLD ME     34\n",
       "GREENLIGHTS                   34\n",
       "BORN A CRIME                  31\n",
       "...                          ...\n",
       "THE LINCOLN CONSPIRACY         1\n",
       "KILLING CRAZY HORSE            1\n",
       "THE PIGEON TUNNEL              1\n",
       "THE PERFECT HORSE              1\n",
       "THE SUGAR QUEEN                1\n",
       "\n",
       "[1070 rows x 1 columns]"
      ]
     },
     "execution_count": 67,
     "metadata": {},
     "output_type": "execute_result"
    }
   ],
   "source": [
    "# checking the unique number of title column\n",
    "print(f'The unique number of title column: {NYT_df[\"title\"].nunique()}')\n",
    "NYT_df[\"title\"].value_counts().to_frame()"
   ]
  },
  {
   "cell_type": "code",
   "execution_count": 69,
   "metadata": {},
   "outputs": [],
   "source": [
    "# changing the pub_date column to datetime format and sorting dataframe based on the pub_date\n",
    "NYT_df.loc[NYT_df['pub_date']=='current','pub_date']=\"2022-02-02\"\n",
    "NYT_df['pub_date'] = pd.to_datetime(NYT_df['pub_date'])\n",
    "NYT_df=NYT_df.sort_values(by='pub_date',ascending=False)"
   ]
  },
  {
   "cell_type": "code",
   "execution_count": 70,
   "metadata": {},
   "outputs": [],
   "source": [
    "#drop duplicated rows with the same columns of 'primary_isbn13','publisher','title','author','category':\n",
    "NYT_df.drop_duplicates(subset=['primary_isbn13','publisher','title','author','category'],inplace=True)"
   ]
  },
  {
   "cell_type": "code",
   "execution_count": 71,
   "metadata": {},
   "outputs": [
    {
     "data": {
      "text/html": [
       "<div>\n",
       "<style scoped>\n",
       "    .dataframe tbody tr th:only-of-type {\n",
       "        vertical-align: middle;\n",
       "    }\n",
       "\n",
       "    .dataframe tbody tr th {\n",
       "        vertical-align: top;\n",
       "    }\n",
       "\n",
       "    .dataframe thead th {\n",
       "        text-align: right;\n",
       "    }\n",
       "</style>\n",
       "<table border=\"1\" class=\"dataframe\">\n",
       "  <thead>\n",
       "    <tr style=\"text-align: right;\">\n",
       "      <th></th>\n",
       "      <th>rank</th>\n",
       "      <th>primary_isbn13</th>\n",
       "      <th>publisher</th>\n",
       "      <th>title</th>\n",
       "      <th>author</th>\n",
       "      <th>category</th>\n",
       "      <th>pub_date</th>\n",
       "    </tr>\n",
       "  </thead>\n",
       "  <tbody>\n",
       "    <tr>\n",
       "      <th>442</th>\n",
       "      <td>8</td>\n",
       "      <td>9780063076099</td>\n",
       "      <td>Dey Street</td>\n",
       "      <td>THE STORYTELLER</td>\n",
       "      <td>Dave Grohl</td>\n",
       "      <td>Hardcover Nonfiction</td>\n",
       "      <td>2022-02-06</td>\n",
       "    </tr>\n",
       "    <tr>\n",
       "      <th>2104</th>\n",
       "      <td>5</td>\n",
       "      <td>9780063076129</td>\n",
       "      <td>HarperAudio</td>\n",
       "      <td>THE STORYTELLER</td>\n",
       "      <td>Dave Grohl</td>\n",
       "      <td>Audio Nonfiction</td>\n",
       "      <td>2022-02-02</td>\n",
       "    </tr>\n",
       "    <tr>\n",
       "      <th>645</th>\n",
       "      <td>1</td>\n",
       "      <td>9780063076099</td>\n",
       "      <td>‎Dey Street</td>\n",
       "      <td>THE STORYTELLER</td>\n",
       "      <td>Dave Grohl</td>\n",
       "      <td>Hardcover Nonfiction</td>\n",
       "      <td>2021-10-31</td>\n",
       "    </tr>\n",
       "    <tr>\n",
       "      <th>2616</th>\n",
       "      <td>17</td>\n",
       "      <td>9781439102763</td>\n",
       "      <td>Atria/Emily Bestler Books</td>\n",
       "      <td>THE STORYTELLER</td>\n",
       "      <td>Jodi Picoult</td>\n",
       "      <td>Combined Print Fiction</td>\n",
       "      <td>2013-04-14</td>\n",
       "    </tr>\n",
       "  </tbody>\n",
       "</table>\n",
       "</div>"
      ],
      "text/plain": [
       "      rank primary_isbn13                  publisher            title  \\\n",
       "442      8  9780063076099                 Dey Street  THE STORYTELLER   \n",
       "2104     5  9780063076129                HarperAudio  THE STORYTELLER   \n",
       "645      1  9780063076099                ‎Dey Street  THE STORYTELLER   \n",
       "2616    17  9781439102763  Atria/Emily Bestler Books  THE STORYTELLER   \n",
       "\n",
       "            author                category   pub_date  \n",
       "442     Dave Grohl    Hardcover Nonfiction 2022-02-06  \n",
       "2104    Dave Grohl        Audio Nonfiction 2022-02-02  \n",
       "645     Dave Grohl    Hardcover Nonfiction 2021-10-31  \n",
       "2616  Jodi Picoult  Combined Print Fiction 2013-04-14  "
      ]
     },
     "execution_count": 71,
     "metadata": {},
     "output_type": "execute_result"
    }
   ],
   "source": [
    "NYT_df.loc[NYT_df['title']=='THE STORYTELLER']"
   ]
  },
  {
   "cell_type": "code",
   "execution_count": 72,
   "metadata": {},
   "outputs": [
    {
     "data": {
      "text/plain": [
       "E-Book Fiction               241\n",
       "Audio Fiction                187\n",
       "Combined Print Fiction       170\n",
       "E-Book Nonfiction            148\n",
       "Audio Nonfiction             147\n",
       "Combined Print Nonfiction    129\n",
       "Hardcover Nonfiction         112\n",
       "Hardcover Fiction            103\n",
       "Name: category, dtype: int64"
      ]
     },
     "execution_count": 72,
     "metadata": {},
     "output_type": "execute_result"
    }
   ],
   "source": [
    "NYT_df['category'].value_counts()"
   ]
  },
  {
   "cell_type": "code",
   "execution_count": 74,
   "metadata": {},
   "outputs": [],
   "source": [
    "NYT_df.to_csv(\"output/clean_NYT.csv\",index=False)"
   ]
  },
  {
   "cell_type": "code",
   "execution_count": 2,
   "metadata": {},
   "outputs": [],
   "source": [
    "#from googlesearch import search"
   ]
  },
  {
   "cell_type": "code",
   "execution_count": 7,
   "metadata": {},
   "outputs": [
    {
     "name": "stdout",
     "output_type": "stream",
     "text": [
      "https://www.amazon.com/Storyteller-Jodi-Picoult/dp/1439102775\n",
      "https://www.barnesandnoble.com/w/the-storyteller-jodi-picoult/1112033163\n"
     ]
    }
   ],
   "source": [
    "\n",
    "#query = \"the page number of THE STORYTELLER\"\n",
    " \n",
    "#for j in search(query,num_results=2, lang='en'):\n",
    "    #print(j)"
   ]
  },
  {
   "cell_type": "code",
   "execution_count": 1,
   "metadata": {},
   "outputs": [],
   "source": [
    "import pandas as pd"
   ]
  },
  {
   "cell_type": "code",
   "execution_count": 4,
   "metadata": {},
   "outputs": [
    {
     "data": {
      "text/html": [
       "<div>\n",
       "<style scoped>\n",
       "    .dataframe tbody tr th:only-of-type {\n",
       "        vertical-align: middle;\n",
       "    }\n",
       "\n",
       "    .dataframe tbody tr th {\n",
       "        vertical-align: top;\n",
       "    }\n",
       "\n",
       "    .dataframe thead th {\n",
       "        text-align: right;\n",
       "    }\n",
       "</style>\n",
       "<table border=\"1\" class=\"dataframe\">\n",
       "  <thead>\n",
       "    <tr style=\"text-align: right;\">\n",
       "      <th></th>\n",
       "      <th></th>\n",
       "      <th></th>\n",
       "      <th></th>\n",
       "      <th></th>\n",
       "      <th></th>\n",
       "      <th>&lt;&lt;&lt;&lt;&lt;&lt;&lt; HEAD</th>\n",
       "    </tr>\n",
       "  </thead>\n",
       "  <tbody>\n",
       "    <tr>\n",
       "      <th>rank</th>\n",
       "      <th>primary_isbn13</th>\n",
       "      <th>publisher</th>\n",
       "      <th>title</th>\n",
       "      <th>author</th>\n",
       "      <th>category</th>\n",
       "      <td>pub_date</td>\n",
       "    </tr>\n",
       "    <tr>\n",
       "      <th>11</th>\n",
       "      <th>9781982168018</th>\n",
       "      <th>Gallery</th>\n",
       "      <th>TASTE</th>\n",
       "      <th>Stanley Tucci</th>\n",
       "      <th>Hardcover Nonfiction</th>\n",
       "      <td>2022-02-06</td>\n",
       "    </tr>\n",
       "    <tr>\n",
       "      <th>8</th>\n",
       "      <th>9780062888341</th>\n",
       "      <th>Harper</th>\n",
       "      <th>THE STRANGER IN THE LIFEBOAT</th>\n",
       "      <th>Mitch Albom</th>\n",
       "      <th>Hardcover Fiction</th>\n",
       "      <td>2022-02-06</td>\n",
       "    </tr>\n",
       "    <tr>\n",
       "      <th>10</th>\n",
       "      <th>9780385547932</th>\n",
       "      <th>Doubleday</th>\n",
       "      <th>TO PARADISE</th>\n",
       "      <th>Hanya Yanagihara</th>\n",
       "      <th>Hardcover Fiction</th>\n",
       "      <td>2022-02-06</td>\n",
       "    </tr>\n",
       "    <tr>\n",
       "      <th>11</th>\n",
       "      <th>9780593465066</th>\n",
       "      <th>Viking</th>\n",
       "      <th>CALL US WHAT WE CARRY</th>\n",
       "      <th>Amanda Gorman</th>\n",
       "      <th>Hardcover Fiction</th>\n",
       "      <td>2022-02-06</td>\n",
       "    </tr>\n",
       "    <tr>\n",
       "      <th>...</th>\n",
       "      <th>...</th>\n",
       "      <th>...</th>\n",
       "      <th>...</th>\n",
       "      <th>...</th>\n",
       "      <th>...</th>\n",
       "      <td>...</td>\n",
       "    </tr>\n",
       "    <tr>\n",
       "      <th>15</th>\n",
       "      <th>9780399157707</th>\n",
       "      <th>Penguin Group</th>\n",
       "      <th>MAD RIVER</th>\n",
       "      <th>John Sandford</th>\n",
       "      <th>Combined Print Fiction</th>\n",
       "      <td>2012-11-04</td>\n",
       "    </tr>\n",
       "    <tr>\n",
       "      <th>12</th>\n",
       "      <th>9781439152805</th>\n",
       "      <th>Atria Books</th>\n",
       "      <th>THE SECRET KEEPER</th>\n",
       "      <th>Kate Morton</th>\n",
       "      <th>Combined Print Fiction</th>\n",
       "      <td>2012-11-04</td>\n",
       "    </tr>\n",
       "    <tr>\n",
       "      <th>2</th>\n",
       "      <th>9780345504982</th>\n",
       "      <th>Random House Publishing</th>\n",
       "      <th>THE TWELVE</th>\n",
       "      <th>Justin Cronin</th>\n",
       "      <th>Combined Print Fiction</th>\n",
       "      <td>2012-11-04</td>\n",
       "    </tr>\n",
       "    <tr>\n",
       "      <th>20</th>\n",
       "      <th>9780307886279</th>\n",
       "      <th>Crown Publishing</th>\n",
       "      <th>IS EVERYONE HANGING OUT WITHOUT ME?</th>\n",
       "      <th>Mindy Kaling</th>\n",
       "      <th>Combined Print Nonfiction</th>\n",
       "      <td>2012-11-04</td>\n",
       "    </tr>\n",
       "    <tr>\n",
       "      <th>&gt;&gt;&gt;&gt;&gt;&gt;&gt; 8262a2cd76254d6341dd1bfd99e6d55398e71265</th>\n",
       "      <th>NaN</th>\n",
       "      <th>NaN</th>\n",
       "      <th>NaN</th>\n",
       "      <th>NaN</th>\n",
       "      <th>NaN</th>\n",
       "      <td>NaN</td>\n",
       "    </tr>\n",
       "  </tbody>\n",
       "</table>\n",
       "<p>2478 rows × 1 columns</p>\n",
       "</div>"
      ],
      "text/plain": [
       "                                                                                                                                                                       <<<<<<< HEAD\n",
       "rank                                             primary_isbn13 publisher               title                               author           category                      pub_date\n",
       "11                                               9781982168018  Gallery                 TASTE                               Stanley Tucci    Hardcover Nonfiction        2022-02-06\n",
       "8                                                9780062888341  Harper                  THE STRANGER IN THE LIFEBOAT        Mitch Albom      Hardcover Fiction           2022-02-06\n",
       "10                                               9780385547932  Doubleday               TO PARADISE                         Hanya Yanagihara Hardcover Fiction           2022-02-06\n",
       "11                                               9780593465066  Viking                  CALL US WHAT WE CARRY               Amanda Gorman    Hardcover Fiction           2022-02-06\n",
       "...                                                                                                                                                                             ...\n",
       "15                                               9780399157707  Penguin Group           MAD RIVER                           John Sandford    Combined Print Fiction      2012-11-04\n",
       "12                                               9781439152805  Atria Books             THE SECRET KEEPER                   Kate Morton      Combined Print Fiction      2012-11-04\n",
       "2                                                9780345504982  Random House Publishing THE TWELVE                          Justin Cronin    Combined Print Fiction      2012-11-04\n",
       "20                                               9780307886279  Crown Publishing        IS EVERYONE HANGING OUT WITHOUT ME? Mindy Kaling     Combined Print Nonfiction   2012-11-04\n",
       ">>>>>>> 8262a2cd76254d6341dd1bfd99e6d55398e71265 NaN            NaN                     NaN                                 NaN              NaN                                NaN\n",
       "\n",
       "[2478 rows x 1 columns]"
      ]
     },
     "execution_count": 4,
     "metadata": {},
     "output_type": "execute_result"
    }
   ],
   "source": [
    "books=pd.read_csv(\"output/clean_NYT.csv\")\n",
    "books"
   ]
  },
  {
   "cell_type": "code",
   "execution_count": null,
   "metadata": {},
   "outputs": [],
   "source": []
  }
 ],
 "metadata": {
  "interpreter": {
   "hash": "11c18a6ec42354f442c314a4a65c13ed192fa6fbf55035b14a6cf201151c352b"
  },
  "kernelspec": {
   "display_name": "Python 3",
   "language": "python",
   "name": "python3"
  },
  "language_info": {
   "codemirror_mode": {
    "name": "ipython",
    "version": 3
   },
   "file_extension": ".py",
   "mimetype": "text/x-python",
   "name": "python",
   "nbconvert_exporter": "python",
   "pygments_lexer": "ipython3",
   "version": "3.6.10"
  }
 },
 "nbformat": 4,
 "nbformat_minor": 2
}
