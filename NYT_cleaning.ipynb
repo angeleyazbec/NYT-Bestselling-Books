{
 "cells": [
  {
   "cell_type": "code",
   "execution_count": 1,
   "metadata": {},
   "outputs": [],
   "source": [
    "#libraries importing\n",
    "import pandas as pd"
   ]
  },
  {
   "cell_type": "code",
   "execution_count": 2,
   "metadata": {},
   "outputs": [
    {
     "data": {
      "text/html": [
       "<div>\n",
       "<style scoped>\n",
       "    .dataframe tbody tr th:only-of-type {\n",
       "        vertical-align: middle;\n",
       "    }\n",
       "\n",
       "    .dataframe tbody tr th {\n",
       "        vertical-align: top;\n",
       "    }\n",
       "\n",
       "    .dataframe thead th {\n",
       "        text-align: right;\n",
       "    }\n",
       "</style>\n",
       "<table border=\"1\" class=\"dataframe\">\n",
       "  <thead>\n",
       "    <tr style=\"text-align: right;\">\n",
       "      <th></th>\n",
       "      <th>rank</th>\n",
       "      <th>primary_isbn10</th>\n",
       "      <th>primary_isbn13</th>\n",
       "      <th>publisher</th>\n",
       "      <th>title</th>\n",
       "      <th>author</th>\n",
       "      <th>category</th>\n",
       "      <th>pub_date</th>\n",
       "    </tr>\n",
       "  </thead>\n",
       "  <tbody>\n",
       "    <tr>\n",
       "      <th>0</th>\n",
       "      <td>1</td>\n",
       "      <td>0525559477</td>\n",
       "      <td>9780525559474</td>\n",
       "      <td>Viking</td>\n",
       "      <td>THE MIDNIGHT LIBRARY</td>\n",
       "      <td>Matt Haig</td>\n",
       "      <td>Hardcover Fiction</td>\n",
       "      <td>current</td>\n",
       "    </tr>\n",
       "    <tr>\n",
       "      <th>1</th>\n",
       "      <td>2</td>\n",
       "      <td>0593356152</td>\n",
       "      <td>9780593356159</td>\n",
       "      <td>Ballantine</td>\n",
       "      <td>THE MAID</td>\n",
       "      <td>Nita Prose</td>\n",
       "      <td>Hardcover Fiction</td>\n",
       "      <td>current</td>\n",
       "    </tr>\n",
       "    <tr>\n",
       "      <th>2</th>\n",
       "      <td>3</td>\n",
       "      <td>0735222355</td>\n",
       "      <td>9780735222359</td>\n",
       "      <td>Viking</td>\n",
       "      <td>THE LINCOLN HIGHWAY</td>\n",
       "      <td>Amor Towles</td>\n",
       "      <td>Hardcover Fiction</td>\n",
       "      <td>current</td>\n",
       "    </tr>\n",
       "    <tr>\n",
       "      <th>3</th>\n",
       "      <td>4</td>\n",
       "      <td>0316499773</td>\n",
       "      <td>9780316499774</td>\n",
       "      <td>Little, Brown</td>\n",
       "      <td>THE HORSEWOMAN</td>\n",
       "      <td>James Patterson and Mike Lupica</td>\n",
       "      <td>Hardcover Fiction</td>\n",
       "      <td>current</td>\n",
       "    </tr>\n",
       "    <tr>\n",
       "      <th>4</th>\n",
       "      <td>5</td>\n",
       "      <td>0593185412</td>\n",
       "      <td>9780593185414</td>\n",
       "      <td>Dutton</td>\n",
       "      <td>ONE STEP TOO FAR</td>\n",
       "      <td>Lisa Gardner</td>\n",
       "      <td>Hardcover Fiction</td>\n",
       "      <td>current</td>\n",
       "    </tr>\n",
       "  </tbody>\n",
       "</table>\n",
       "</div>"
      ],
      "text/plain": [
       "   rank primary_isbn10 primary_isbn13      publisher                 title  \\\n",
       "0     1     0525559477  9780525559474         Viking  THE MIDNIGHT LIBRARY   \n",
       "1     2     0593356152  9780593356159     Ballantine              THE MAID   \n",
       "2     3     0735222355  9780735222359         Viking   THE LINCOLN HIGHWAY   \n",
       "3     4     0316499773  9780316499774  Little, Brown        THE HORSEWOMAN   \n",
       "4     5     0593185412  9780593185414         Dutton      ONE STEP TOO FAR   \n",
       "\n",
       "                            author           category pub_date  \n",
       "0                        Matt Haig  Hardcover Fiction  current  \n",
       "1                       Nita Prose  Hardcover Fiction  current  \n",
       "2                      Amor Towles  Hardcover Fiction  current  \n",
       "3  James Patterson and Mike Lupica  Hardcover Fiction  current  \n",
       "4                     Lisa Gardner  Hardcover Fiction  current  "
      ]
     },
     "execution_count": 2,
     "metadata": {},
     "output_type": "execute_result"
    }
   ],
   "source": [
    "#reading the NYT_API data\n",
    "NYT_df=pd.read_csv(\"output/best_book_list.csv\")\n",
    "NYT_df.head()"
   ]
  },
  {
   "cell_type": "code",
   "execution_count": 3,
   "metadata": {},
   "outputs": [
    {
     "name": "stdout",
     "output_type": "stream",
     "text": [
      "<class 'pandas.core.frame.DataFrame'>\n",
      "RangeIndex: 1820 entries, 0 to 1819\n",
      "Data columns (total 8 columns):\n",
      " #   Column          Non-Null Count  Dtype \n",
      "---  ------          --------------  ----- \n",
      " 0   rank            1820 non-null   int64 \n",
      " 1   primary_isbn10  1523 non-null   object\n",
      " 2   primary_isbn13  1820 non-null   object\n",
      " 3   publisher       1820 non-null   object\n",
      " 4   title           1820 non-null   object\n",
      " 5   author          1820 non-null   object\n",
      " 6   category        1820 non-null   object\n",
      " 7   pub_date        1820 non-null   object\n",
      "dtypes: int64(1), object(7)\n",
      "memory usage: 113.9+ KB\n"
     ]
    }
   ],
   "source": [
    "#checking columns and null values\n",
    "NYT_df.info()"
   ]
  },
  {
   "cell_type": "code",
   "execution_count": 4,
   "metadata": {},
   "outputs": [],
   "source": [
    "#dropping column with null values\n",
    "NYT_df.drop('primary_isbn10',axis=1,inplace=True)"
   ]
  },
  {
   "cell_type": "code",
   "execution_count": 5,
   "metadata": {},
   "outputs": [
    {
     "data": {
      "text/plain": [
       "0"
      ]
     },
     "execution_count": 5,
     "metadata": {},
     "output_type": "execute_result"
    }
   ],
   "source": [
    "#checking duplicated rows\n",
    "NYT_df.duplicated().sum()"
   ]
  },
  {
   "cell_type": "code",
   "execution_count": 6,
   "metadata": {},
   "outputs": [
    {
     "data": {
      "text/plain": [
       "Combined Print Nonfiction    280\n",
       "Combined Print Fiction       280\n",
       "E-Book Nonfiction            210\n",
       "E-Book Fiction               210\n",
       "Audio Fiction                210\n",
       "Audio Nonfiction             210\n",
       "Hardcover Fiction            210\n",
       "Hardcover Nonfiction         210\n",
       "Name: category, dtype: int64"
      ]
     },
     "execution_count": 6,
     "metadata": {},
     "output_type": "execute_result"
    }
   ],
   "source": [
    "NYT_df[\"category\"].value_counts()"
   ]
  },
  {
   "cell_type": "code",
   "execution_count": 7,
   "metadata": {},
   "outputs": [
    {
     "name": "stdout",
     "output_type": "stream",
     "text": [
      "The unique number of title column: 586\n"
     ]
    },
    {
     "data": {
      "text/html": [
       "<div>\n",
       "<style scoped>\n",
       "    .dataframe tbody tr th:only-of-type {\n",
       "        vertical-align: middle;\n",
       "    }\n",
       "\n",
       "    .dataframe tbody tr th {\n",
       "        vertical-align: top;\n",
       "    }\n",
       "\n",
       "    .dataframe thead th {\n",
       "        text-align: right;\n",
       "    }\n",
       "</style>\n",
       "<table border=\"1\" class=\"dataframe\">\n",
       "  <thead>\n",
       "    <tr style=\"text-align: right;\">\n",
       "      <th></th>\n",
       "      <th>title</th>\n",
       "    </tr>\n",
       "  </thead>\n",
       "  <tbody>\n",
       "    <tr>\n",
       "      <th>THE MIDNIGHT LIBRARY</th>\n",
       "      <td>26</td>\n",
       "    </tr>\n",
       "    <tr>\n",
       "      <th>THE STORYTELLER</th>\n",
       "      <td>22</td>\n",
       "    </tr>\n",
       "    <tr>\n",
       "      <th>GREENLIGHTS</th>\n",
       "      <td>20</td>\n",
       "    </tr>\n",
       "    <tr>\n",
       "      <th>BORN A CRIME</th>\n",
       "      <td>19</td>\n",
       "    </tr>\n",
       "    <tr>\n",
       "      <th>THE LAST THING HE TOLD ME</th>\n",
       "      <td>19</td>\n",
       "    </tr>\n",
       "    <tr>\n",
       "      <th>...</th>\n",
       "      <td>...</td>\n",
       "    </tr>\n",
       "    <tr>\n",
       "      <th>I'LL SEE YOU AGAIN</th>\n",
       "      <td>1</td>\n",
       "    </tr>\n",
       "    <tr>\n",
       "      <th>THE ALCHEMIST</th>\n",
       "      <td>1</td>\n",
       "    </tr>\n",
       "    <tr>\n",
       "      <th>BUFFERING</th>\n",
       "      <td>1</td>\n",
       "    </tr>\n",
       "    <tr>\n",
       "      <th>THE SENTINEL</th>\n",
       "      <td>1</td>\n",
       "    </tr>\n",
       "    <tr>\n",
       "      <th>WHERE THE DEER AND THE ANTELOPE PLAY</th>\n",
       "      <td>1</td>\n",
       "    </tr>\n",
       "  </tbody>\n",
       "</table>\n",
       "<p>586 rows × 1 columns</p>\n",
       "</div>"
      ],
      "text/plain": [
       "                                      title\n",
       "THE MIDNIGHT LIBRARY                     26\n",
       "THE STORYTELLER                          22\n",
       "GREENLIGHTS                              20\n",
       "BORN A CRIME                             19\n",
       "THE LAST THING HE TOLD ME                19\n",
       "...                                     ...\n",
       "I'LL SEE YOU AGAIN                        1\n",
       "THE ALCHEMIST                             1\n",
       "BUFFERING                                 1\n",
       "THE SENTINEL                              1\n",
       "WHERE THE DEER AND THE ANTELOPE PLAY      1\n",
       "\n",
       "[586 rows x 1 columns]"
      ]
     },
     "execution_count": 7,
     "metadata": {},
     "output_type": "execute_result"
    }
   ],
   "source": [
    "# checking the unique number of title column\n",
    "print(f'The unique number of title column: {NYT_df[\"title\"].nunique()}')\n",
    "NYT_df[\"title\"].value_counts().to_frame()"
   ]
  },
  {
   "cell_type": "code",
   "execution_count": 13,
   "metadata": {},
   "outputs": [],
   "source": [
    "# changing the pub_date column to datetime format and sorting dataframe based on the pub_date\n",
    "NYT_df.loc[NYT_df['pub_date']=='current','pub_date']=\"2022-02-02\"\n",
    "NYT_df['pub_date'] = pd.to_datetime(NYT_df['pub_date'])\n",
    "NYT_df=NYT_df.sort_values(by='pub_date',ascending=False)"
   ]
  },
  {
   "cell_type": "code",
   "execution_count": 14,
   "metadata": {},
   "outputs": [],
   "source": [
    "#drop duplicated rows with the same columns of 'primary_isbn13','publisher','title','author','category':\n",
    "NYT_df.drop_duplicates(subset=['primary_isbn13','publisher','title','author','category'],inplace=True)"
   ]
  },
  {
   "cell_type": "code",
   "execution_count": 52,
   "metadata": {},
   "outputs": [],
   "source": [
    "#NYT_df.loc[NYT_df['title']=='THE STORYTELLER']"
   ]
  },
  {
   "cell_type": "code",
   "execution_count": 17,
   "metadata": {},
   "outputs": [
    {
     "data": {
      "text/plain": [
       "E-Book Fiction               116\n",
       "Combined Print Fiction       111\n",
       "Audio Fiction                101\n",
       "Combined Print Nonfiction     87\n",
       "Audio Nonfiction              84\n",
       "E-Book Nonfiction             75\n",
       "Hardcover Nonfiction          53\n",
       "Hardcover Fiction             52\n",
       "Name: category, dtype: int64"
      ]
     },
     "execution_count": 17,
     "metadata": {},
     "output_type": "execute_result"
    }
   ],
   "source": [
    "NYT_df['category'].value_counts()"
   ]
  },
  {
   "cell_type": "code",
   "execution_count": 19,
   "metadata": {},
   "outputs": [],
   "source": [
    "NYT_df.to_csv(\"output/clean_NYT.csv\",index=False)"
   ]
  },
  {
   "cell_type": "code",
   "execution_count": null,
   "metadata": {},
   "outputs": [],
   "source": []
  }
 ],
 "metadata": {
  "interpreter": {
   "hash": "11c18a6ec42354f442c314a4a65c13ed192fa6fbf55035b14a6cf201151c352b"
  },
  "kernelspec": {
   "display_name": "Python 3.6.10 64-bit ('PythonData': conda)",
   "language": "python",
   "name": "python3"
  },
  "language_info": {
   "codemirror_mode": {
    "name": "ipython",
    "version": 3
   },
   "file_extension": ".py",
   "mimetype": "text/x-python",
   "name": "python",
   "nbconvert_exporter": "python",
   "pygments_lexer": "ipython3",
   "version": "3.6.10"
  },
  "orig_nbformat": 4
 },
 "nbformat": 4,
 "nbformat_minor": 2
}
