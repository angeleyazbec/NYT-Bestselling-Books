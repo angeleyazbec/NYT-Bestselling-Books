{
 "cells": [
  {
   "cell_type": "code",
   "execution_count": 18,
   "metadata": {},
   "outputs": [],
   "source": [
    "import requests\n",
    "from pprint import pprint\n",
    "from api_keys import api_key\n",
    "import pandas as pd\n",
    "import time\n",
    "\n",
    "\n",
    "#Function for finding all list_name in NYT_API\n",
    "def list_name_maker(url=\"https://api.nytimes.com/svc/books/v3/lists/names.json?\"+\"api-key=\"+api_key):\n",
    "    response_=requests.get(url).json()\n",
    "    result_length=response_[\"num_results\"]\n",
    "    list_name=[response_[\"results\"][i][\"list_name\"] for i in range(59)]\n",
    "    list_name_encoded=[response_[\"results\"][i][\"list_name_encoded\"] for i in range(59)]\n",
    "    oldest_published_date=[response_[\"results\"][i][\"oldest_published_date\"] for i in range(59)]\n",
    "    newest_published_date=[response_[\"results\"][i][\"newest_published_date\"] for i in range(59)]\n",
    "    updated=[response_[\"results\"][i][\"updated\"] for i in range(59)]\n",
    "    list_dict={\"list_name\":list_name,\n",
    "               \"list_name_encoded\":list_name_encoded,\n",
    "               \"oldest_published_date\":oldest_published_date,\n",
    "               \"newest_published_date\":newest_published_date,\n",
    "               \"updated\":updated}                      \n",
    "                                    \n",
    "                                    \n",
    "    list_df=pd.DataFrame(list_dict)\n",
    "    #list_df.to_csv(\"output/NYT_list.csv\",index=False)\n",
    "    return list_df\n",
    "\n",
    "#list_name_df=list_name_maker()\n",
    "\n",
    "#Function for getting Best Sellers List details of one category and making a \n",
    "#dataframe and finding previous_published_date\n",
    "\n",
    "def best_book(date='current',query='hardcover-fiction',api_key=api_key):\n",
    "    url=\"https://api.nytimes.com/svc/books/v3/lists\"\n",
    "    query_url = url + \"/\" + date + \"/\" + query +\".json?\"+\"api-key=\" + api_key\n",
    "    resp=requests.get(query_url).json()\n",
    "    num_results=len(resp[\"results\"]['books'])\n",
    "    rank=[resp[\"results\"]['books'][i][\"rank\"] for i in range(num_results)]\n",
    "    primary_isbn10=[resp[\"results\"]['books'][i][\"primary_isbn10\"] for i in range(num_results)]\n",
    "    primary_isbn13=[resp[\"results\"]['books'][i][\"primary_isbn13\"] for i in range(num_results)]\n",
    "    publisher=[resp[\"results\"]['books'][i][\"publisher\"] for i in range(num_results)]\n",
    "    title=[resp[\"results\"]['books'][i][\"title\"] for i in range(num_results)]\n",
    "    author=[resp[\"results\"]['books'][i][\"author\"] for i in range(num_results)]\n",
    "    categry=[query for i in range(num_results)]\n",
    "    pub_date=[date for i in range(num_results)]\n",
    "    \n",
    "    #getting previous_published_date\n",
    "    previous_published_date=resp[\"results\"]['previous_published_date']\n",
    "\n",
    "    category_dict={\"rank\":rank,\n",
    "           \"primary_isbn10\":primary_isbn10,\n",
    "           \"primary_isbn13\":primary_isbn13,\n",
    "           \"publisher\":publisher,\n",
    "           \"title\":title,\n",
    "           \"author\":author,\n",
    "           \"category\":categry,\n",
    "           \"pub_date\":pub_date}  \n",
    "       \n",
    "    return pd.DataFrame(category_dict),previous_published_date\n",
    "\n",
    "\n",
    "\n",
    "#Function for getting 14 published date and dataframes and concatenating them on 1 dataframe\n",
    "def best_ctg_maker(query='hardcover-fiction',api_key=api_key):\n",
    "    dfs=[]\n",
    "    previous_dates=[\"current\"]\n",
    "    for i in range(28):\n",
    "        df=best_book(date=previous_dates[i],query=query)\n",
    "        dfs.append(df[0])\n",
    "        previous_dates.append(df[1])\n",
    "        time.sleep(10)\n",
    "    return pd.concat(dfs)\n",
    "\n",
    "\n",
    "# Function for concatenating all categories dataframes in one\n",
    "def best_book_df_maker():\n",
    "    costum_list=[\"Hardcover Fiction\",\"Hardcover Nonfiction\",\"E-Book Fiction\",\"E-Book Nonfiction\",\n",
    "             \"Audio Fiction\",\"Audio Nonfiction\",\"Combined Print Fiction\",\"Combined Print Nonfiction\"]\n",
    "\n",
    "    Best_books=[]\n",
    "    for i in costum_list:\n",
    "        df=best_ctg_maker(query=i)\n",
    "        Best_books.append(df)\n",
    "        time.sleep(10)\n",
    "    #last dataframe concatenating     \n",
    "    Best_books_df=pd.concat(Best_books)\n",
    "    #Best_books_df.to_csv(\"output/best_book_list.csv\",index=False)\n",
    "    return Best_books_df\n",
    "\n",
    "\n",
    "\n"
   ]
  },
  {
   "cell_type": "code",
   "execution_count": 19,
   "metadata": {},
   "outputs": [],
   "source": [
    "best_book_df=best_book_df_maker()\n"
   ]
  },
  {
   "cell_type": "code",
   "execution_count": 20,
   "metadata": {},
   "outputs": [
    {
     "data": {
      "text/plain": [
       "3640"
      ]
     },
     "execution_count": 20,
     "metadata": {},
     "output_type": "execute_result"
    }
   ],
   "source": [
    "len(best_book_df)"
   ]
  },
  {
   "cell_type": "code",
   "execution_count": 21,
   "metadata": {},
   "outputs": [],
   "source": [
    "best_book_df.to_csv(\"output/best_book_list_1.csv\",index=False)"
   ]
  },
  {
   "cell_type": "code",
   "execution_count": null,
   "metadata": {},
   "outputs": [],
   "source": []
  }
 ],
 "metadata": {
  "interpreter": {
   "hash": "11c18a6ec42354f442c314a4a65c13ed192fa6fbf55035b14a6cf201151c352b"
  },
  "kernelspec": {
   "display_name": "Python 3",
   "language": "python",
   "name": "python3"
  },
  "language_info": {
   "codemirror_mode": {
    "name": "ipython",
    "version": 3
   },
   "file_extension": ".py",
   "mimetype": "text/x-python",
   "name": "python",
   "nbconvert_exporter": "python",
   "pygments_lexer": "ipython3",
   "version": "3.6.10"
  }
 },
 "nbformat": 4,
 "nbformat_minor": 2
}
